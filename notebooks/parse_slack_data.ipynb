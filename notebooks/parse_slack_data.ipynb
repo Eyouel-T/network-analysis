{
 "cells": [
  {
   "cell_type": "code",
   "execution_count": 1,
   "metadata": {},
   "outputs": [],
   "source": [
    "%reload_ext autoreload\n",
    "%autoreload 2"
   ]
  },
  {
   "cell_type": "code",
   "execution_count": 2,
   "metadata": {},
   "outputs": [],
   "source": [
    "import os, sys\n",
    "import re\n",
    "import json\n",
    "import glob\n",
    "import datetime\n",
    "from collections import Counter\n",
    "\n",
    "import pandas as pd\n",
    "from matplotlib import pyplot as plt\n",
    "import seaborn as sns\n",
    "\n",
    "from nltk.corpus import stopwords\n",
    "from wordcloud import WordCloud"
   ]
  },
  {
   "cell_type": "code",
   "execution_count": 3,
   "metadata": {},
   "outputs": [],
   "source": [
    "# Add parent directory to path to import modules from src\n",
    "\n",
    "rpath = os.path.abspath('..')\n",
    "if rpath not in sys.path:\n",
    "    sys.path.insert(0, rpath)\n",
    "\n",
    "from src.loader import SlackDataLoader\n",
    "from src.loader import slack_parser\n",
    "from src.loader import all_messages\n",
    "from src.loader import test\n",
    "import src.utils as utils"
   ]
  },
  {
   "cell_type": "markdown",
   "metadata": {},
   "source": [
    "LOADING THE DATA IN THE ANONYMIZED FOLDER"
   ]
  },
  {
   "cell_type": "code",
   "execution_count": 4,
   "metadata": {},
   "outputs": [],
   "source": [
    "\n",
    "data = SlackDataLoader(\"../anonymized\")\n"
   ]
  },
  {
   "cell_type": "markdown",
   "metadata": {},
   "source": [
    "MESSAGES\n"
   ]
  },
  {
   "cell_type": "code",
   "execution_count": 5,
   "metadata": {},
   "outputs": [
    {
     "name": "stdout",
     "output_type": "stream",
     "text": [
      "../anonymized\n",
      "slack_parser called with argument: ../anonymized/week-2-group-8 \n",
      "all messages called\n",
      "slack_parser called with argument: ../anonymized/ab_test-group \n",
      "slack_parser called with argument: ../anonymized/all-de-week12 \n",
      "slack_parser called with argument: ../anonymized/all-career-exercises \n",
      "slack_parser called with argument: ../anonymized/all-community-building \n",
      "slack_parser called with argument: ../anonymized/all-ideas \n",
      "slack_parser called with argument: ../anonymized/all-ml-week12 \n",
      "slack_parser called with argument: ../anonymized/all-resources \n",
      "slack_parser called with argument: ../anonymized/all-technical-support \n",
      "slack_parser called with argument: ../anonymized/all-web3-week12 \n",
      "slack_parser called with argument: ../anonymized/all-week1 \n",
      "slack_parser called with argument: ../anonymized/all-week2 \n",
      "slack_parser called with argument: ../anonymized/all-week3 \n",
      "slack_parser called with argument: ../anonymized/all-week4 \n",
      "slack_parser called with argument: ../anonymized/all-week5 \n",
      "slack_parser called with argument: ../anonymized/all-week6 \n",
      "slack_parser called with argument: ../anonymized/all-week7 \n",
      "slack_parser called with argument: ../anonymized/all-week8 \n",
      "slack_parser called with argument: ../anonymized/all-week9 \n",
      "slack_parser called with argument: ../anonymized/all-week10 \n",
      "slack_parser called with argument: ../anonymized/all-week11 \n",
      "slack_parser called with argument: ../anonymized/all-week12 \n",
      "slack_parser called with argument: ../anonymized/batch6_week4_studygroup \n",
      "slack_parser called with argument: ../anonymized/chang-w11 \n",
      "slack_parser called with argument: ../anonymized/data-engineering \n",
      "slack_parser called with argument: ../anonymized/dsa-sql \n",
      "slack_parser called with argument: ../anonymized/gokada-challenge-presentation \n",
      "slack_parser called with argument: ../anonymized/happy-new-year-study-group \n",
      "slack_parser called with argument: ../anonymized/kafka_de \n",
      "slack_parser called with argument: ../anonymized/machine-learning \n",
      "slack_parser called with argument: ../anonymized/random \n",
      "slack_parser called with argument: ../anonymized/study-group \n",
      "slack_parser called with argument: ../anonymized/team-10 \n",
      "slack_parser called with argument: ../anonymized/tenx-bot \n",
      "slack_parser called with argument: ../anonymized/week2-group \n",
      "slack_parser called with argument: ../anonymized/week-2-group-8 \n",
      "slack_parser called with argument: ../anonymized/week4-teamwork \n",
      "slack_parser called with argument: ../anonymized/week-11-group4 \n"
     ]
    },
    {
     "data": {
      "text/html": [
       "<div>\n",
       "<style scoped>\n",
       "    .dataframe tbody tr th:only-of-type {\n",
       "        vertical-align: middle;\n",
       "    }\n",
       "\n",
       "    .dataframe tbody tr th {\n",
       "        vertical-align: top;\n",
       "    }\n",
       "\n",
       "    .dataframe thead th {\n",
       "        text-align: right;\n",
       "    }\n",
       "</style>\n",
       "<table border=\"1\" class=\"dataframe\">\n",
       "  <thead>\n",
       "    <tr style=\"text-align: right;\">\n",
       "      <th></th>\n",
       "      <th>msg_type</th>\n",
       "      <th>msg_content</th>\n",
       "      <th>sender_name</th>\n",
       "      <th>msg_sent_time</th>\n",
       "      <th>msg_dist_type</th>\n",
       "      <th>time_thread_start</th>\n",
       "      <th>reply_count</th>\n",
       "      <th>reply_users_count</th>\n",
       "      <th>reply_users</th>\n",
       "      <th>tm_thread_end</th>\n",
       "      <th>channel</th>\n",
       "    </tr>\n",
       "  </thead>\n",
       "  <tbody>\n",
       "    <tr>\n",
       "      <th>0</th>\n",
       "      <td>message</td>\n",
       "      <td>Hi guys,\\nI thought having a group chat would ...</td>\n",
       "      <td>Anita Rodriguez</td>\n",
       "      <td>1661766066.863109</td>\n",
       "      <td>text</td>\n",
       "      <td>0</td>\n",
       "      <td>0</td>\n",
       "      <td>0</td>\n",
       "      <td>0</td>\n",
       "      <td>0</td>\n",
       "      <td>ab_test-group</td>\n",
       "    </tr>\n",
       "    <tr>\n",
       "      <th>1</th>\n",
       "      <td>message</td>\n",
       "      <td>good!!</td>\n",
       "      <td>Michael Gonzalez</td>\n",
       "      <td>1661766159.852649</td>\n",
       "      <td>text</td>\n",
       "      <td>0</td>\n",
       "      <td>0</td>\n",
       "      <td>0</td>\n",
       "      <td>0</td>\n",
       "      <td>0</td>\n",
       "      <td>ab_test-group</td>\n",
       "    </tr>\n",
       "    <tr>\n",
       "      <th>2</th>\n",
       "      <td>message</td>\n",
       "      <td>Thanks &lt;@U03U9FWPNCE&gt;</td>\n",
       "      <td>Robert Carter</td>\n",
       "      <td>1661766226.215889</td>\n",
       "      <td>text</td>\n",
       "      <td>0</td>\n",
       "      <td>0</td>\n",
       "      <td>0</td>\n",
       "      <td>0</td>\n",
       "      <td>0</td>\n",
       "      <td>ab_test-group</td>\n",
       "    </tr>\n",
       "    <tr>\n",
       "      <th>3</th>\n",
       "      <td>message</td>\n",
       "      <td>Nice &lt;@U03U9FWPNCE&gt;</td>\n",
       "      <td>Phillip Atkins</td>\n",
       "      <td>1661766241.597379</td>\n",
       "      <td>text</td>\n",
       "      <td>0</td>\n",
       "      <td>0</td>\n",
       "      <td>0</td>\n",
       "      <td>0</td>\n",
       "      <td>0</td>\n",
       "      <td>ab_test-group</td>\n",
       "    </tr>\n",
       "    <tr>\n",
       "      <th>4</th>\n",
       "      <td>message</td>\n",
       "      <td>I have been missing deadlines and I am trying ...</td>\n",
       "      <td>Anita Rodriguez</td>\n",
       "      <td>1661766295.939119</td>\n",
       "      <td>text</td>\n",
       "      <td>0</td>\n",
       "      <td>0</td>\n",
       "      <td>0</td>\n",
       "      <td>0</td>\n",
       "      <td>0</td>\n",
       "      <td>ab_test-group</td>\n",
       "    </tr>\n",
       "  </tbody>\n",
       "</table>\n",
       "</div>"
      ],
      "text/plain": [
       "  msg_type                                        msg_content  \\\n",
       "0  message  Hi guys,\\nI thought having a group chat would ...   \n",
       "1  message                                             good!!   \n",
       "2  message                              Thanks <@U03U9FWPNCE>   \n",
       "3  message                                Nice <@U03U9FWPNCE>   \n",
       "4  message  I have been missing deadlines and I am trying ...   \n",
       "\n",
       "        sender_name      msg_sent_time msg_dist_type time_thread_start  \\\n",
       "0   Anita Rodriguez  1661766066.863109          text                 0   \n",
       "1  Michael Gonzalez  1661766159.852649          text                 0   \n",
       "2     Robert Carter  1661766226.215889          text                 0   \n",
       "3    Phillip Atkins  1661766241.597379          text                 0   \n",
       "4   Anita Rodriguez  1661766295.939119          text                 0   \n",
       "\n",
       "   reply_count  reply_users_count reply_users tm_thread_end        channel  \n",
       "0            0                  0           0             0  ab_test-group  \n",
       "1            0                  0           0             0  ab_test-group  \n",
       "2            0                  0           0             0  ab_test-group  \n",
       "3            0                  0           0             0  ab_test-group  \n",
       "4            0                  0           0             0  ab_test-group  "
      ]
     },
     "execution_count": 5,
     "metadata": {},
     "output_type": "execute_result"
    }
   ],
   "source": [
    "# messages in a the document\n",
    "print(data.path)\n",
    "messages_dff = slack_parser(data.path +\"/week-2-group-8\")\n",
    "#messages.describe()\n",
    "#all_messages()\n",
    "messages = all_messages()\n",
    "messages.describe()\n",
    "messages.head()\n",
    "#test = all_messages()\n"
   ]
  },
  {
   "cell_type": "code",
   "execution_count": 6,
   "metadata": {},
   "outputs": [
    {
     "data": {
      "image/png": "[encoded data removed]",
      "text/plain": [
       "<Figure size 800x400 with 1 Axes>"
      ]
     },
     "metadata": {},
     "output_type": "display_data"
    },
    {
     "data": {
      "text/plain": [
       "\"\\nimport matplotlib.pyplot as plt\\n\\nreply_counts = test.sort_values(by='reply_count', ascending=False)\\ntop_10 = reply_counts.head(10)\\n\\ntop_10.plot(kind='bar', x='post_title', y='reply_count', figsize=(8, 4), color='green')\\nplt.xlabel('Post Title')\\nplt.ylabel('Reply Count')\\nplt.title('Top 10 Posts by Reply Count')\\nplt.show()\\n\\nfirst_few_rows = reply_counts.head()\\nprint(first_few_rows)\""
      ]
     },
     "execution_count": 6,
     "metadata": {},
     "output_type": "execute_result"
    }
   ],
   "source": [
    "#My messages reply counts\n",
    "\n",
    "reply_counts = messages.sort_values(by=['reply_count'],ascending=False)\n",
    "top_10 = reply_counts.head(10)\n",
    "top_10.plot(kind='bar', x ='sender_name', y= 'reply_count',figsize=(8,4), color='green')\n",
    "plt.xlabel(\"senders\")\n",
    "plt.ylabel(\"Reply count\")\n",
    "plt.title(\"top 10 messages by reply count\")\n",
    "plt.show()\n",
    "\n",
    "'''\n",
    "import matplotlib.pyplot as plt\n",
    "\n",
    "reply_counts = test.sort_values(by='reply_count', ascending=False)\n",
    "top_10 = reply_counts.head(10)\n",
    "\n",
    "top_10.plot(kind='bar', x='post_title', y='reply_count', figsize=(8, 4), color='green')\n",
    "plt.xlabel('Post Title')\n",
    "plt.ylabel('Reply Count')\n",
    "plt.title('Top 10 Posts by Reply Count')\n",
    "plt.show()\n",
    "\n",
    "first_few_rows = reply_counts.head()\n",
    "print(first_few_rows)'''\n"
   ]
  },
  {
   "cell_type": "code",
   "execution_count": 7,
   "metadata": {},
   "outputs": [
    {
     "data": {
      "image/png": "[encoded data removed]",
      "text/plain": [
       "<Figure size 640x480 with 1 Axes>"
      ]
     },
     "metadata": {},
     "output_type": "display_data"
    }
   ],
   "source": [
    "# plotting a histogram of time differences between consecutive messages\n",
    "\n",
    "\n",
    "sorted_messages = messages.sort_values('msg_sent_time')\n",
    "sorted_messages['msg_sent_time'] = pd.to_datetime(sorted_messages['msg_sent_time'], unit='s')\n",
    "time_difference = sorted_messages['msg_sent_time'].diff().dt.total_seconds()*1000\n",
    "plt.hist(time_difference.dropna(), bins=20)\n",
    "plt.xlabel('Time Difference (seconds)')\n",
    "plt.ylabel('Frequency')\n",
    "plt.title('Distribution of Time Differences between Consecutive Messages')\n",
    "plt.show()"
   ]
  },
  {
   "cell_type": "markdown",
   "metadata": {},
   "source": [
    "USERS"
   ]
  },
  {
   "cell_type": "code",
   "execution_count": 8,
   "metadata": {},
   "outputs": [
    {
     "name": "stdout",
     "output_type": "stream",
     "text": [
      "<class 'list'>\n"
     ]
    },
    {
     "data": {
      "text/html": [
       "<div>\n",
       "<style scoped>\n",
       "    .dataframe tbody tr th:only-of-type {\n",
       "        vertical-align: middle;\n",
       "    }\n",
       "\n",
       "    .dataframe tbody tr th {\n",
       "        vertical-align: top;\n",
       "    }\n",
       "\n",
       "    .dataframe thead th {\n",
       "        text-align: right;\n",
       "    }\n",
       "</style>\n",
       "<table border=\"1\" class=\"dataframe\">\n",
       "  <thead>\n",
       "    <tr style=\"text-align: right;\">\n",
       "      <th></th>\n",
       "      <th>tz_offset</th>\n",
       "      <th>updated</th>\n",
       "    </tr>\n",
       "  </thead>\n",
       "  <tbody>\n",
       "    <tr>\n",
       "      <th>count</th>\n",
       "      <td>57.000000</td>\n",
       "      <td>7.100000e+01</td>\n",
       "    </tr>\n",
       "    <tr>\n",
       "      <th>mean</th>\n",
       "      <td>3410.526316</td>\n",
       "      <td>1.672156e+09</td>\n",
       "    </tr>\n",
       "    <tr>\n",
       "      <th>std</th>\n",
       "      <td>12987.489643</td>\n",
       "      <td>1.243181e+07</td>\n",
       "    </tr>\n",
       "    <tr>\n",
       "      <th>min</th>\n",
       "      <td>-28800.000000</td>\n",
       "      <td>1.660570e+09</td>\n",
       "    </tr>\n",
       "    <tr>\n",
       "      <th>25%</th>\n",
       "      <td>3600.000000</td>\n",
       "      <td>1.663371e+09</td>\n",
       "    </tr>\n",
       "    <tr>\n",
       "      <th>50%</th>\n",
       "      <td>10800.000000</td>\n",
       "      <td>1.667401e+09</td>\n",
       "    </tr>\n",
       "    <tr>\n",
       "      <th>75%</th>\n",
       "      <td>10800.000000</td>\n",
       "      <td>1.676618e+09</td>\n",
       "    </tr>\n",
       "    <tr>\n",
       "      <th>max</th>\n",
       "      <td>10800.000000</td>\n",
       "      <td>1.700820e+09</td>\n",
       "    </tr>\n",
       "  </tbody>\n",
       "</table>\n",
       "</div>"
      ],
      "text/plain": [
       "          tz_offset       updated\n",
       "count     57.000000  7.100000e+01\n",
       "mean    3410.526316  1.672156e+09\n",
       "std    12987.489643  1.243181e+07\n",
       "min   -28800.000000  1.660570e+09\n",
       "25%     3600.000000  1.663371e+09\n",
       "50%    10800.000000  1.667401e+09\n",
       "75%    10800.000000  1.676618e+09\n",
       "max    10800.000000  1.700820e+09"
      ]
     },
     "execution_count": 8,
     "metadata": {},
     "output_type": "execute_result"
    }
   ],
   "source": [
    "#get users\n",
    "\n",
    "user = data.get_users()\n",
    "df = pd.DataFrame(user)\n",
    "print(type(user))\n",
    "df.describe()\n",
    "\n"
   ]
  },
  {
   "cell_type": "markdown",
   "metadata": {},
   "source": [
    "CHANNELS"
   ]
  },
  {
   "cell_type": "code",
   "execution_count": 9,
   "metadata": {},
   "outputs": [],
   "source": [
    "# a channel\n",
    "channels = data.get_channels()\n",
    "df = pd.DataFrame(channels)\n",
    "#df.head(20)"
   ]
  },
  {
   "cell_type": "markdown",
   "metadata": {},
   "source": [
    "\n",
    "### Columns we can get from a slack message<br>\n",
    "\n",
    "message_type, message_content, sender_id, time_sent, message_distribution, time_thread_start, reply_count, reply_user_count, time_thread_end, reply_users"
   ]
  },
  {
   "cell_type": "markdown",
   "metadata": {},
   "source": [
    "From a single slack message, we can get <br>\n",
    "\n",
    "1. The message<br>\n",
    "2. Type (message, file, link, etc)<br>\n",
    "3. The sender_id (assigned by slack)<br>\n",
    "4. The time the message was sent<br>\n",
    "5. The team (i don't know what that is now)<br>\n",
    "6. The type of the message (broadcast message, inhouse, just messgae)<br>\n",
    "7. The thread the message generated (from here we can go):<br>\n",
    "    7.1 Text/content of the message<br>\n",
    "    7.2 The thread time of the message<br>\n",
    "    7.3 The thread count (reply count)<br>\n",
    "    7.4 The number of user that reply the message (count of users that participated in the thread)<br>\n",
    "    7.5 The time the last thread message was sent <br>\n",
    "    7.6 The users that participated in the thread (their ids are stored as well)<br>"
   ]
  },
  {
   "cell_type": "code",
   "execution_count": null,
   "metadata": {},
   "outputs": [],
   "source": []
  },
  {
   "cell_type": "code",
   "execution_count": null,
   "metadata": {},
   "outputs": [],
   "source": []
  },
  {
   "cell_type": "code",
   "execution_count": 10,
   "metadata": {},
   "outputs": [],
   "source": [
    "def get_top_20_user(data, channel='Random'):\n",
    "    \"\"\"get user with the highest number of message sent to any channel\"\"\"\n",
    "\n",
    "    data['sender_name'].value_counts()[:20].plot.bar(figsize=(15, 7.5))\n",
    "    plt.title(f'Top 20 Message Senders in #{channel} channels', size=15, fontweight='bold')\n",
    "    plt.xlabel(\"Sender Name\", size=18); plt.ylabel(\"Frequency\", size=14);\n",
    "    plt.xticks(size=12); plt.yticks(size=12);\n",
    "    plt.show()\n",
    "\n",
    "    data['sender_name'].value_counts()[-10:].plot.bar(figsize=(15, 7.5))\n",
    "    plt.title(f'Bottom 10 Message Senders in #{channel} channels', size=15, fontweight='bold')\n",
    "    plt.xlabel(\"Sender Name\", size=18); plt.ylabel(\"Frequency\", size=14);\n",
    "    plt.xticks(size=12); plt.yticks(size=12);\n",
    "    plt.show()\n",
    "\n",
    "def draw_avg_reply_count(data, channel='Random'):\n",
    "    \"\"\"who commands many reply?\"\"\"\n",
    "\n",
    "    data.groupby('sender_name')['reply_count'].mean().sort_values(ascending=False)[:20]\\\n",
    "        .plot(kind='bar', figsize=(15,7.5));\n",
    "    plt.title(f'Average Number of reply count per Sender in #{channel}', size=20, fontweight='bold')\n",
    "    plt.xlabel(\"Sender Name\", size=18); plt.ylabel(\"Frequency\", size=18);\n",
    "    plt.xticks(size=14); plt.yticks(size=14);\n",
    "    plt.show()\n",
    "\n",
    "def draw_avg_reply_users_count(data, channel='Random'):\n",
    "    \"\"\"who commands many user reply?\"\"\"\n",
    "\n",
    "    data.groupby('sender_name')['reply_users_count'].mean().sort_values(ascending=False)[:20].plot(kind='bar',\n",
    "     figsize=(15,7.5));\n",
    "    plt.title(f'Average Number of reply user count per Sender in #{channel}', size=20, fontweight='bold')\n",
    "    plt.xlabel(\"Sender Name\", size=18); plt.ylabel(\"Frequency\", size=18);\n",
    "    plt.xticks(size=14); plt.yticks(size=14);\n",
    "    plt.show()\n",
    "\n",
    "def draw_wordcloud(msg_content, week):    \n",
    "    # word cloud visualization\n",
    "    allWords = ' '.join([twts for twts in msg_content])\n",
    "    wordCloud = WordCloud(background_color='#975429', width=500, height=300, random_state=21, max_words=500, mode='RGBA',\n",
    "                            max_font_size=140, stopwords=stopwords.words('english')).generate(allWords)\n",
    "    plt.figure(figsize=(15, 7.5))\n",
    "    plt.imshow(wordCloud, interpolation=\"bilinear\")\n",
    "    plt.axis('off')\n",
    "    plt.tight_layout()\n",
    "    plt.title(f'WordCloud for {week}', size=30)\n",
    "    plt.show()\n",
    "\n",
    "def draw_user_reaction(data, channel='General'):\n",
    "    data.groupby('sender_name')[['reply_count', 'reply_users_count']].sum()\\\n",
    "        .sort_values(by='reply_count',ascending=False)[:10].plot(kind='bar', figsize=(15, 7.5))\n",
    "    plt.title(f'User with the most reaction in #{channel}', size=25);\n",
    "    plt.xlabel(\"Sender Name\", size=18); plt.ylabel(\"Frequency\", size=18);\n",
    "    plt.xticks(size=14); plt.yticks(size=14);\n",
    "    plt.show()\n",
    "\n"
   ]
  },
  {
   "cell_type": "code",
   "execution_count": 11,
   "metadata": {},
   "outputs": [
    {
     "name": "stderr",
     "output_type": "stream",
     "text": [
      "usage: ipykernel_launcher.py [-h] [--output OUTPUT] --path PATH\n",
      "                             [--channel CHANNEL] [--userfile USERFILE]\n",
      "ipykernel_launcher.py: error: the following arguments are required: --path\n"
     ]
    },
    {
     "ename": "SystemExit",
     "evalue": "2",
     "output_type": "error",
     "traceback": [
      "An exception has occurred, use %tb to see the full traceback.\n",
      "\u001b[1;31mSystemExit\u001b[0m\u001b[1;31m:\u001b[0m 2\n"
     ]
    },
    {
     "name": "stderr",
     "output_type": "stream",
     "text": [
      "d:\\10academy\\week 0\\network-analysis\\venv3\\lib\\site-packages\\IPython\\core\\interactiveshell.py:3558: UserWarning: To exit: use 'exit', 'quit', or Ctrl-D.\n",
      "  warn(\"To exit: use 'exit', 'quit', or Ctrl-D.\", stacklevel=1)\n"
     ]
    }
   ],
   "source": [
    "'''import os, sys\n",
    "import re\n",
    "import json\n",
    "import glob\n",
    "import datetime\n",
    "from collections import Counter\n",
    "\n",
    "# Get the current working directory\n",
    "current_dir = os.getcwd()\n",
    "\n",
    "# Get the parent directory (one level up)\n",
    "parent_dir = os.path.dirname(current_dir)\n",
    "\n",
    "# Construct the path to the 'network-analysis' directory\n",
    "network_analysis_path = os.path.join(parent_dir, 'network-analysis')\n",
    "\n",
    "# Append the path to sys.path\n",
    "sys.path.append(network_analysis_path)\n",
    "\n",
    "\n",
    "import pandas as pd\n",
    "from matplotlib import pyplot as plt\n",
    "import seaborn as sns\n",
    "\n",
    "from nltk.corpus import stopwords\n",
    "from wordcloud import WordCloud\n",
    "\n",
    "from src.loader import *\n",
    "from src.utils import *\n",
    "from src.config import *\n",
    "\n",
    "loaded_data = SlackDataLoader(\"anonymized\")'''"
   ]
  },
  {
   "cell_type": "markdown",
   "metadata": {},
   "source": [
    "## Insight Extraction\n",
    "\n",
    "Below are some useful questions to answer. Feel free to explore to answer other interesting questions that may be of help to get insight about student's behaviour, need, and future performance "
   ]
  },
  {
   "cell_type": "code",
   "execution_count": null,
   "metadata": {},
   "outputs": [],
   "source": [
    "# which user has the highest number of reply counts?"
   ]
  },
  {
   "cell_type": "code",
   "execution_count": null,
   "metadata": {},
   "outputs": [],
   "source": [
    "# Visualize reply counts per user per channel"
   ]
  },
  {
   "cell_type": "code",
   "execution_count": null,
   "metadata": {},
   "outputs": [],
   "source": [
    "# what is the time range of the day that most messages are sent?\n"
   ]
  },
  {
   "cell_type": "code",
   "execution_count": null,
   "metadata": {},
   "outputs": [],
   "source": [
    "# what kind of messages are replied faster than others?"
   ]
  },
  {
   "cell_type": "code",
   "execution_count": null,
   "metadata": {},
   "outputs": [],
   "source": [
    "# Relationship between # of messages and # of reactions"
   ]
  },
  {
   "cell_type": "code",
   "execution_count": null,
   "metadata": {},
   "outputs": [],
   "source": [
    "# Classify messages into different categories such as questions, answers, comments, etc."
   ]
  },
  {
   "cell_type": "code",
   "execution_count": null,
   "metadata": {},
   "outputs": [],
   "source": [
    "# Which users got the most reactions?"
   ]
  },
  {
   "cell_type": "code",
   "execution_count": null,
   "metadata": {},
   "outputs": [],
   "source": [
    "# Model topics mentioned in the channel"
   ]
  },
  {
   "cell_type": "code",
   "execution_count": null,
   "metadata": {},
   "outputs": [],
   "source": [
    "# What are the topics that got the most reactions?"
   ]
  },
  {
   "cell_type": "markdown",
   "metadata": {},
   "source": [
    "### Harder questions to look into"
   ]
  },
  {
   "cell_type": "code",
   "execution_count": null,
   "metadata": {},
   "outputs": [],
   "source": [
    "# Based on messages, reactions, references shared, and other relevant data such as classification of questions into techical question, comment, answer, aorder stu the python, statistics, and sql skill level of a user?"
   ]
  }
 ],
 "metadata": {
  "kernelspec": {
   "display_name": "Python 3",
   "language": "python",
   "name": "python3"
  },
  "language_info": {
   "codemirror_mode": {
    "name": "ipython",
    "version": 3
   },
   "file_extension": ".py",
   "mimetype": "text/x-python",
   "name": "python",
   "nbconvert_exporter": "python",
   "pygments_lexer": "ipython3",
   "version": "3.9.2"
  }
 },
 "nbformat": 4,
 "nbformat_minor": 4
}
